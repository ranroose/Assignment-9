{
 "cells": [
  {
   "cell_type": "code",
   "execution_count": 17,
   "id": "556492cf-c745-482d-a3a7-33ad356edf63",
   "metadata": {
    "tags": []
   },
   "outputs": [],
   "source": [
    "# assignment 9.1\n",
    "class Animals:\n",
    "    \"\"\"This class is about animals\"\"\"\n",
    "    \n",
    "    def __init__(self, genus, name, year_of_birth, colour=None, sex=None):\n",
    "        self.genus = genus\n",
    "        self.name = name \n",
    "        self.year_of_birth = year_of_birth\n",
    "        self.colour = colour\n",
    "        self.sex = sex\n",
    "        \n",
    "    def age(self, year):\n",
    "        \"\"\"Calculates the age of the animal at this year.\"\"\"\n",
    "        return f\"{self.name} is a {year - self.year_of_birth} y o.\"\n",
    "\n",
    "    def info(self):\n",
    "        \"\"\"Prints information about the animal.\"\"\"\n",
    "        return f\"{self.name} is a {self.genus}.\"\n",
    "    \n",
    "    def full_info(self):\n",
    "        \"\"\"Prints more information about the animal.\"\"\"\n",
    "        info = f\"{self.name} is a {self.genus} born in {self.year_of_birth}.\"\n",
    "        if self.colour:\n",
    "            info += f\" It is {self.colour}.\"\n",
    "        if self.sex:\n",
    "            info += f\" It is {self.sex}.\"\n",
    "        return info"
   ]
  },
  {
   "cell_type": "code",
   "execution_count": 24,
   "id": "861872d6-2541-4fe9-9a3f-0ccc71307246",
   "metadata": {
    "tags": []
   },
   "outputs": [
    {
     "name": "stdout",
     "output_type": "stream",
     "text": [
      "Cheluskin is a cat.\n",
      "Cheluskin is a 8 y o.\n",
      "Cheluskin is a cat born in 2016. It is gray. It is male.\n",
      "\n",
      "Dika is a cat.\n",
      "Dika is a 6 y o.\n",
      "Dika is a cat born in 2018. It is black. It is female.\n",
      "\n",
      "Viva is a dog.\n",
      "Viva is a 1 y o.\n",
      "Viva is a dog born in 2023. It is black. It is female.\n",
      "\n",
      "Vasya is a rabbit.\n",
      "Vasya is a 4 y o.\n",
      "Vasya is a rabbit born in 2020. It is white. It is male.\n"
     ]
    }
   ],
   "source": [
    "#assignment 9.1\n",
    "Cheluskin = Animals(genus=\"cat\", name=\"Cheluskin\", year_of_birth=2016, colour=\"gray\", sex=\"male\")\n",
    "Dika = Animals(genus=\"cat\", name=\"Dika\", year_of_birth=2018, colour=\"black\", sex=\"female\")\n",
    "Viva = Animals(genus=\"dog\", name=\"Viva\", year_of_birth=2023, colour=\"black\", sex=\"female\")\n",
    "Vasya = Animals(genus=\"rabbit\", name=\"Vasya\", year_of_birth=2020, colour=\"white\", sex=\"male\")\n",
    "\n",
    "print(Cheluskin.info())  \n",
    "print(Cheluskin.age(2024)) \n",
    "print(Cheluskin.full_info())  \n",
    "print()\n",
    "print(Dika.info())  \n",
    "print(Dika.age(2024)) \n",
    "print(Dika.full_info())  \n",
    "print()\n",
    "print(Viva.info())  \n",
    "print(Viva.age(2024)) \n",
    "print(Viva.full_info())  \n",
    "print()\n",
    "print(Vasya.info())  \n",
    "print(Vasya.age(2024)) \n",
    "print(Vasya.full_info())  "
   ]
  },
  {
   "cell_type": "code",
   "execution_count": 33,
   "id": "76a2b71f-3c8c-43ed-8d6a-ab9521c5e318",
   "metadata": {
    "tags": []
   },
   "outputs": [
    {
     "name": "stdout",
     "output_type": "stream",
     "text": [
      "Cheluskin is a cat.\n",
      "Age in 2024: Cheluskin is a 9 y o. years\n",
      "Cheluskin is a cat born in 2015. It is gray. It is male.\n",
      "\n",
      "Dika is a cat.\n",
      "Age in 2024: Dika is a 6 y o. years\n",
      "Dika is a cat born in 2018. It is black. It is female.\n",
      "\n",
      "Viva is a dog.\n",
      "Age in 2024: Viva is a 1 y o. years\n",
      "Viva is a dog born in 2023. It is black. It is female.\n",
      "\n",
      "Vasya is a rabbit.\n",
      "Age in 2024: Vasya is a 4 y o. years\n",
      "Vasya is a rabbit born in 2020. It is white. It is male.\n",
      "\n",
      "Sam is a parrot.\n",
      "Age in 2024: Sam is a 22 y o. years\n",
      "Sam is a parrot born in 2002. It is blue. It is male.\n",
      "\n"
     ]
    }
   ],
   "source": [
    "#assignment 9.2\n",
    "animals = [\n",
    "    Animals(genus=\"cat\", name=\"Cheluskin\", year_of_birth=2015, colour=\"gray\", sex=\"male\"),\n",
    "    Animals(genus=\"cat\", name=\"Dika\", year_of_birth=2018, colour=\"black\", sex=\"female\"),\n",
    "    Animals(genus=\"dog\", name=\"Viva\", year_of_birth=2023, colour=\"black\", sex=\"female\"),\n",
    "    Animals(genus=\"rabbit\", name=\"Vasya\", year_of_birth=2020, colour=\"white\", sex=\"male\"),\n",
    "    Animals(genus=\"parrot\", name=\"Sam\", year_of_birth=2002, colour=\"blue\", sex=\"male\")\n",
    " ]\n",
    "\n",
    "for animal in animals:\n",
    "    print(animal.info())\n",
    "    print(f\"Age in 2024: {animal.age(2024)} years\")\n",
    "    print(animal.full_info())\n",
    "    print(\"\")"
   ]
  },
  {
   "cell_type": "code",
   "execution_count": 39,
   "id": "00abec8a-e49f-4c90-8849-cadc8215b58f",
   "metadata": {
    "tags": []
   },
   "outputs": [
    {
     "name": "stdout",
     "output_type": "stream",
     "text": [
      "The oldest animal is Sam, a parrot, and is 22 years old.\n"
     ]
    }
   ],
   "source": [
    "# assignment 9.3\n",
    "def find_oldest_animal(animals, current_year):\n",
    "    oldest_animal = min(animals, key=lambda animal: animal.year_of_birth)\n",
    "    age = current_year - oldest_animal.year_of_birth\n",
    "    return oldest_animal, age\n",
    "\n",
    "oldest_animal, age = find_oldest_animal(animals, 2024)\n",
    "print(f\"The oldest animal is {oldest_animal.name}, a {oldest_animal.genus}, and is {age} years old.\")\n"
   ]
  },
  {
   "cell_type": "code",
   "execution_count": 42,
   "id": "42df7798-add2-400a-87ff-79ba1b8e20b2",
   "metadata": {
    "tags": []
   },
   "outputs": [
    {
     "name": "stdout",
     "output_type": "stream",
     "text": [
      "Animal information has been written to animals_info.txt.\n",
      "Name: Cheluskin, Genus: cat\n",
      "Name: Dika, Genus: cat\n",
      "Name: Viva, Genus: dog\n",
      "Name: Vasya, Genus: rabbit\n",
      "Name: Sam, Genus: parrot\n",
      "\n"
     ]
    }
   ],
   "source": [
    "# assignment 9.4\n",
    "def write_animals_to_file(animals, file_name):\n",
    "    with open(file_name, 'w') as file:\n",
    "        for animal in animals:\n",
    "            file.write(f\"Name: {animal.name}, Genus: {animal.genus}\\n\")\n",
    "\n",
    "write_animals_to_file(animals, 'animals.txt')\n",
    "\n",
    "print(\"Animal information has been written to animals.txt.\")\n",
    "with open(\"animals.txt\", \"r\") as file:\n",
    "    print(file.read())\n"
   ]
  },
  {
   "cell_type": "code",
   "execution_count": null,
   "id": "6f21fc0e-ccb1-445a-bf53-8aa94ed2dd28",
   "metadata": {},
   "outputs": [],
   "source": []
  }
 ],
 "metadata": {
  "kernelspec": {
   "display_name": "Python 3 (ipykernel)",
   "language": "python",
   "name": "python3"
  },
  "language_info": {
   "codemirror_mode": {
    "name": "ipython",
    "version": 3
   },
   "file_extension": ".py",
   "mimetype": "text/x-python",
   "name": "python",
   "nbconvert_exporter": "python",
   "pygments_lexer": "ipython3",
   "version": "3.10.9"
  }
 },
 "nbformat": 4,
 "nbformat_minor": 5
}
